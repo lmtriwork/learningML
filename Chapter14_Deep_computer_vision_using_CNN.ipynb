{
  "cells": [
    {
      "cell_type": "markdown",
      "source": [
        "# Setup"
      ],
      "metadata": {
        "id": "gvB4QohT7sL6"
      },
      "id": "gvB4QohT7sL6"
    },
    {
      "cell_type": "code",
      "execution_count": 1,
      "id": "48b15651-451e-4909-a18a-feac8d1159ff",
      "metadata": {
        "id": "48b15651-451e-4909-a18a-feac8d1159ff"
      },
      "outputs": [],
      "source": [
        "import sys\n",
        "\n",
        "assert sys.version_info >= (3, 7)"
      ]
    },
    {
      "cell_type": "code",
      "execution_count": 2,
      "id": "23c1550c-f323-4ef6-919e-1ad9a70d6c20",
      "metadata": {
        "id": "23c1550c-f323-4ef6-919e-1ad9a70d6c20"
      },
      "outputs": [],
      "source": [
        "from packaging import version\n",
        "import sklearn\n",
        "\n",
        "assert version.parse(sklearn.__version__) >= version.parse(\"1.0.1\")"
      ]
    },
    {
      "cell_type": "code",
      "execution_count": 3,
      "id": "60a34744-c554-4415-86cc-f8f99645458d",
      "metadata": {
        "id": "60a34744-c554-4415-86cc-f8f99645458d"
      },
      "outputs": [],
      "source": [
        "import tensorflow as tf\n",
        "\n",
        "assert version.parse(tf.__version__) >= version.parse(\"2.8.0\")"
      ]
    },
    {
      "cell_type": "code",
      "execution_count": 4,
      "id": "c04e44a9-1994-4df0-933f-a376a3e520fc",
      "metadata": {
        "id": "c04e44a9-1994-4df0-933f-a376a3e520fc"
      },
      "outputs": [],
      "source": [
        "import matplotlib.pyplot as plt\n",
        "\n",
        "plt.rc('font', size=14)\n",
        "plt.rc('axes', labelsize=14, titlesize=14)\n",
        "plt.rc('legend', fontsize=14)\n",
        "plt.rc('xtick', labelsize=10)\n",
        "plt.rc('ytick', labelsize=10)"
      ]
    },
    {
      "cell_type": "code",
      "execution_count": 5,
      "id": "083628c7-620d-4386-a87f-faa5d2420b9d",
      "metadata": {
        "id": "083628c7-620d-4386-a87f-faa5d2420b9d"
      },
      "outputs": [],
      "source": [
        "# Is this notebook running on Colab or Kaggle?\n",
        "IS_COLAB = \"google.colab\" in sys.modules\n",
        "IS_KAGGLE = \"kaggle_secrets\" in sys.modules\n",
        "\n",
        "if not tf.config.list_physical_devices('GPU'):\n",
        "    print(\"No GPU was detected. Neural nets can be very slow without a GPU.\")\n",
        "    if IS_COLAB:\n",
        "        print(\"Go to Runtime > Change runtime and select a GPU hardware \"\n",
        "              \"accelerator.\")\n",
        "    if IS_KAGGLE:\n",
        "        print(\"Go to Settings > Accelerator and select GPU.\")"
      ]
    },
    {
      "cell_type": "markdown",
      "source": [
        "# Convolutional Layers"
      ],
      "metadata": {
        "id": "tTUdpCRq7pK7"
      },
      "id": "tTUdpCRq7pK7"
    },
    {
      "cell_type": "markdown",
      "source": [
        "## Implementing Covolutional Layers With Keras"
      ],
      "metadata": {
        "id": "rFZwyLel7wvj"
      },
      "id": "rFZwyLel7wvj"
    },
    {
      "cell_type": "code",
      "execution_count": 7,
      "id": "675e39dd-3c58-4bd2-afc4-8cb60a776e59",
      "metadata": {
        "id": "675e39dd-3c58-4bd2-afc4-8cb60a776e59"
      },
      "outputs": [],
      "source": [
        "from sklearn.datasets import load_sample_images\n",
        "import tensorflow as tf\n",
        "\n",
        "images = load_sample_images()[\"images\"]\n",
        "images = tf.keras.layers.CenterCrop(height=70, width=120)(images)\n",
        "images = tf.keras.layers.Rescaling(scale=1 / 255)(images)"
      ]
    },
    {
      "cell_type": "code",
      "source": [
        "images.shape\n"
      ],
      "metadata": {
        "id": "jt8rcAhO8VZd",
        "outputId": "8fc48995-5f58-4a03-92a0-ef031a9b7c60",
        "colab": {
          "base_uri": "https://localhost:8080/"
        }
      },
      "id": "jt8rcAhO8VZd",
      "execution_count": 8,
      "outputs": [
        {
          "output_type": "execute_result",
          "data": {
            "text/plain": [
              "TensorShape([2, 70, 120, 3])"
            ]
          },
          "metadata": {},
          "execution_count": 8
        }
      ]
    },
    {
      "cell_type": "code",
      "source": [],
      "metadata": {
        "id": "ae899FIK8Z15"
      },
      "id": "ae899FIK8Z15",
      "execution_count": null,
      "outputs": []
    }
  ],
  "metadata": {
    "kernelspec": {
      "display_name": "Python 3",
      "name": "python3"
    },
    "language_info": {
      "codemirror_mode": {
        "name": "ipython",
        "version": 3
      },
      "file_extension": ".py",
      "mimetype": "text/x-python",
      "name": "python",
      "nbconvert_exporter": "python",
      "pygments_lexer": "ipython3",
      "version": "3.12.3"
    },
    "colab": {
      "provenance": [],
      "gpuType": "T4"
    },
    "accelerator": "GPU"
  },
  "nbformat": 4,
  "nbformat_minor": 5
}