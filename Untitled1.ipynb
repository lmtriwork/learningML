{
 "cells": [
  {
   "cell_type": "code",
   "execution_count": null,
   "id": "461388bf-4089-4c51-b039-f4b21943b1f8",
   "metadata": {},
   "outputs": [],
   "source": []
  }
 ],
 "metadata": {
  "kernelspec": {
   "display_name": "",
   "name": ""
  },
  "language_info": {
   "name": ""
  }
 },
 "nbformat": 4,
 "nbformat_minor": 5
}
