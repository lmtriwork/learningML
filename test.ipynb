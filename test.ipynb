{
 "cells": [
  {
   "cell_type": "code",
   "execution_count": 68,
   "id": "e9033446-67dd-4125-8d1a-d3a280dbb153",
   "metadata": {},
   "outputs": [
    {
     "data": {
      "text/plain": [
       "(150, 4)"
      ]
     },
     "execution_count": 68,
     "metadata": {},
     "output_type": "execute_result"
    }
   ],
   "source": [
    "from sklearn.datasets import load_iris\n",
    "import numpy as np\n",
    "'''\n",
    "we can directly use the following line to load X,y of iris dataset\n",
    "#X,y = load_iris(return_X_y=True)\n",
    "instead we load iris dataset as a dataframe.\n",
    "iris, and iris_df will be used just for explaining dataframe methods\n",
    "They could also be used for visualizations.\n",
    "For processing we will use just X,y as feature vectors a nd targets\n",
    "'''\n",
    "iris = load_iris(as_frame=True)\n",
    "iris_df = iris.frame\n",
    "\n",
    "X = iris.data.to_numpy()\n",
    "y = iris.target.to_numpy()\n",
    "X.shape"
   ]
  },
  {
   "cell_type": "code",
   "execution_count": 70,
   "id": "ac33ed8e-97f6-40a3-80fb-6c2885ef70f1",
   "metadata": {},
   "outputs": [],
   "source": [
    "X_train = X[120:]"
   ]
  },
  {
   "cell_type": "code",
   "execution_count": 74,
   "id": "3a5d1887-4905-494a-83fe-5708008b90de",
   "metadata": {},
   "outputs": [
    {
     "ename": "TypeError",
     "evalue": "'int' object is not subscriptable",
     "output_type": "error",
     "traceback": [
      "\u001b[1;31m---------------------------------------------------------------------------\u001b[0m",
      "\u001b[1;31mTypeError\u001b[0m                                 Traceback (most recent call last)",
      "Cell \u001b[1;32mIn[74], line 15\u001b[0m\n\u001b[0;32m      5\u001b[0m \u001b[38;5;28;01mfor\u001b[39;00m i \u001b[38;5;129;01min\u001b[39;00m \u001b[38;5;28mrange\u001b[39m(num_query):\n\u001b[0;32m      6\u001b[0m     \u001b[38;5;28;01mfor\u001b[39;00m j \u001b[38;5;129;01min\u001b[39;00m \u001b[38;5;28mrange\u001b[39m(num_train):\n\u001b[0;32m      7\u001b[0m         \u001b[38;5;66;03m#####################################################################\u001b[39;00m\n\u001b[0;32m      8\u001b[0m         \u001b[38;5;66;03m# TODO:                                                             #\u001b[39;00m\n\u001b[1;32m   (...)\u001b[0m\n\u001b[0;32m     12\u001b[0m         \u001b[38;5;66;03m#####################################################################\u001b[39;00m\n\u001b[0;32m     13\u001b[0m         \u001b[38;5;66;03m# *****START OF YOUR CODE (DO NOT DELETE/MODIFY THIS LINE)*****\u001b[39;00m\n\u001b[1;32m---> 15\u001b[0m         dists[i][j] \u001b[38;5;241m=\u001b[39m math\u001b[38;5;241m.\u001b[39msqrt((num_query[i][\u001b[38;5;241m0\u001b[39m] \u001b[38;5;241m-\u001b[39m num_train[j][\u001b[38;5;241m0\u001b[39m])\u001b[38;5;241m*\u001b[39m\u001b[38;5;241m*\u001b[39m\u001b[38;5;241m2\u001b[39m \u001b[38;5;241m+\u001b[39m (num_query[i][\u001b[38;5;241m1\u001b[39m] \u001b[38;5;241m-\u001b[39m num_train[j][\u001b[38;5;241m1\u001b[39m])\u001b[38;5;241m*\u001b[39m\u001b[38;5;241m*\u001b[39m\u001b[38;5;241m2\u001b[39m)\n",
      "\u001b[1;31mTypeError\u001b[0m: 'int' object is not subscriptable"
     ]
    }
   ],
   "source": [
    "import math\n",
    "num_query = X.shape[0]  #Number of query samples: Nq\n",
    "num_train = X_train.shape[0]#Number of training samples: N\n",
    "dists = np.zeros((num_query, num_train))\n",
    "for i in range(num_query):\n",
    "    for j in range(num_train):\n",
    "        #####################################################################\n",
    "        # TODO:                                                             #\n",
    "        # Compute the l2 distance between the ith query point and the jth   #\n",
    "        # training point, and store the result in dists[i, j]. You should   #\n",
    "        # not use a loop over dimension, nor use np.linalg.norm().          #\n",
    "        #####################################################################\n",
    "        # *****START OF YOUR CODE (DO NOT DELETE/MODIFY THIS LINE)*****\n",
    "\n",
    "        dists[i][j] = math.sqrt((num_query[i][0] - num_train[j][0])**2 + (num_query[i][1] - num_train[j][1])**2)\n",
    "    \n",
    "        # *****END OF YOUR CODE (DO NOT DELETE/MODIFY THIS LINE)*****\n"
   ]
  },
  {
   "cell_type": "code",
   "execution_count": 64,
   "id": "aab5b469-a790-47fd-ab8b-3475f1c7b547",
   "metadata": {},
   "outputs": [
    {
     "data": {
      "text/plain": [
       "0"
      ]
     },
     "execution_count": 64,
     "metadata": {},
     "output_type": "execute_result"
    }
   ],
   "source": [
    "X_train.shape[0]"
   ]
  },
  {
   "cell_type": "code",
   "execution_count": null,
   "id": "a62e6295-2c47-4aa4-8d75-4c182630331b",
   "metadata": {},
   "outputs": [],
   "source": []
  }
 ],
 "metadata": {
  "kernelspec": {
   "display_name": "Python 3 (ipykernel)",
   "language": "python",
   "name": "python3"
  },
  "language_info": {
   "codemirror_mode": {
    "name": "ipython",
    "version": 3
   },
   "file_extension": ".py",
   "mimetype": "text/x-python",
   "name": "python",
   "nbconvert_exporter": "python",
   "pygments_lexer": "ipython3",
   "version": "3.12.7"
  }
 },
 "nbformat": 4,
 "nbformat_minor": 5
}
