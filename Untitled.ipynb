{
 "cells": [
  {
   "cell_type": "code",
   "execution_count": null,
   "id": "4b44c91c-a28a-4394-b36c-e32d1a308812",
   "metadata": {},
   "outputs": [],
   "source": []
  }
 ],
 "metadata": {
  "kernelspec": {
   "display_name": "",
   "name": ""
  },
  "language_info": {
   "name": ""
  }
 },
 "nbformat": 4,
 "nbformat_minor": 5
}
