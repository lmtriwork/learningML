{
 "cells": [
  {
   "cell_type": "markdown",
   "id": "63ca8709-9081-402a-9122-8e9934e29449",
   "metadata": {},
   "source": [
    "# The Normal Equation"
   ]
  },
  {
   "cell_type": "code",
   "execution_count": 2,
   "id": "571ebadf-58ca-4fb9-99bd-c6f688a5adc9",
   "metadata": {},
   "outputs": [],
   "source": [
    "import numpy as np\n",
    "X = 2* np.random.rand(100, 1)\n",
    "y = 4 + 3 * X + np.random.randn(100, 1)"
   ]
  },
  {
   "cell_type": "code",
   "execution_count": 8,
   "id": "2837b411-8db1-4b3e-b8fd-18957f87d0d4",
   "metadata": {},
   "outputs": [],
   "source": [
    "X_b = np.c_[np.ones((100,1)), X]"
   ]
  },
  {
   "cell_type": "code",
   "execution_count": 12,
   "id": "82871705-879c-46d2-aeee-1b0f504bc4a5",
   "metadata": {},
   "outputs": [],
   "source": [
    "theta_best = np.linalg.inv(X_b.T.dot(X_b)).dot(X_b.T).dot(y)"
   ]
  },
  {
   "cell_type": "code",
   "execution_count": 14,
   "id": "c7b8a4ee-e083-46a6-8739-ce6210f3c8d2",
   "metadata": {},
   "outputs": [
    {
     "data": {
      "text/plain": [
       "array([[4.13585996],\n",
       "       [3.09321727]])"
      ]
     },
     "execution_count": 14,
     "metadata": {},
     "output_type": "execute_result"
    }
   ],
   "source": [
    "theta_best"
   ]
  },
  {
   "cell_type": "code",
   "execution_count": 18,
   "id": "c9f452ac-9eca-4541-bff2-2394e09a8f29",
   "metadata": {},
   "outputs": [
    {
     "data": {
      "text/plain": [
       "array([[ 4.13585996],\n",
       "       [10.32229451]])"
      ]
     },
     "execution_count": 18,
     "metadata": {},
     "output_type": "execute_result"
    }
   ],
   "source": [
    "X_new = np.array([[0], [2]])\n",
    "X_new_b = np.c_[np.ones((2, 1)), X_new]\n",
    "y_predict = X_new_b.dot(theta_best)\n",
    "y_predict"
   ]
  },
  {
   "cell_type": "code",
   "execution_count": 22,
   "id": "db2540b2-646a-41fb-98ef-7f20f52653c8",
   "metadata": {},
   "outputs": [
    {
     "data": {
      "image/png": "[encoded data removed]",
      "text/plain": [
       "<Figure size 640x480 with 1 Axes>"
      ]
     },
     "metadata": {},
     "output_type": "display_data"
    }
   ],
   "source": [
    "from matplotlib import pyplot as plt\n",
    "plt.plot(X_new, y_predict, \"r-\")\n",
    "plt.plot(X, y, \"b.\")\n",
    "plt.axis([0, 2, 0, 15])\n",
    "plt.show()"
   ]
  },
  {
   "cell_type": "markdown",
   "id": "48c37af2-6834-4236-a8cc-fff2aac8565a",
   "metadata": {},
   "source": [
    "# Computation Complexity"
   ]
  },
  {
   "cell_type": "markdown",
   "id": "5e0f1e26-8a9f-4a66-9447-a7d5be18490e",
   "metadata": {},
   "source": [
    "## Gradient Descent"
   ]
  },
  {
   "cell_type": "code",
   "execution_count": 30,
   "id": "50adcba3-0856-4ddc-9911-4c2da5e515da",
   "metadata": {},
   "outputs": [
    {
     "data": {
      "text/plain": [
       "array([[4.13585996],\n",
       "       [3.09321727]])"
      ]
     },
     "execution_count": 30,
     "metadata": {},
     "output_type": "execute_result"
    }
   ],
   "source": [
    "eta = 0.1\n",
    "n_iterations = 1000\n",
    "m = 100\n",
    "\n",
    "theta = np.random.randn(2,1)\n",
    "\n",
    "for iteration in range(n_iterations):\n",
    "    gradients = 2/m * X_b.T.dot(X_b.dot(theta)-y)\n",
    "    theta = theta - eta * gradients\n",
    "theta"
   ]
  },
  {
   "cell_type": "markdown",
   "id": "00d0dc60-25f4-4bd0-8b4d-1bc27e666a58",
   "metadata": {},
   "source": [
    "## Stochastic Gradient Descent"
   ]
  },
  {
   "cell_type": "code",
   "execution_count": 33,
   "id": "86197017-afed-475c-a63d-ebb211b9c9eb",
   "metadata": {},
   "outputs": [],
   "source": [
    "n_epochs = 50\n",
    "t0, t1 = 5, 50\n",
    "\n",
    "def learning_schedule(t):\n",
    "    return t0 / (t + t1)\n",
    "theta = np.random.randn(2,1)\n",
    "\n",
    "for epoch in range(n_epochs):\n",
    "    for i in range(m):\n",
    "        random_index = np.random.randint(m)\n",
    "        xi = X_b[random_index:random_index+1]\n",
    "        yi = y[random_index:random_index+1]\n",
    "        gradients = 2* xi.T.dot(xi.dot(theta) - yi)\n",
    "        eta = learning_schedule(epoch * m + i )\n",
    "        theta = theta - eta * gradients"
   ]
  },
  {
   "cell_type": "code",
   "execution_count": 35,
   "id": "85fe993a-7368-4b80-ab79-34db2c20f488",
   "metadata": {},
   "outputs": [
    {
     "data": {
      "text/plain": [
       "array([[4.10611546],\n",
       "       [3.14678155]])"
      ]
     },
     "execution_count": 35,
     "metadata": {},
     "output_type": "execute_result"
    }
   ],
   "source": [
    "theta"
   ]
  },
  {
   "cell_type": "code",
   "execution_count": null,
   "id": "cd30e10f-3a32-4151-8997-0ce36ef2f8b8",
   "metadata": {},
   "outputs": [],
   "source": []
  }
 ],
 "metadata": {
  "kernelspec": {
   "display_name": "Python 3 (ipykernel)",
   "language": "python",
   "name": "python3"
  },
  "language_info": {
   "codemirror_mode": {
    "name": "ipython",
    "version": 3
   },
   "file_extension": ".py",
   "mimetype": "text/x-python",
   "name": "python",
   "nbconvert_exporter": "python",
   "pygments_lexer": "ipython3",
   "version": "3.12.7"
  }
 },
 "nbformat": 4,
 "nbformat_minor": 5
}
