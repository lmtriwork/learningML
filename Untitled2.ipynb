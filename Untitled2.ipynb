{
 "cells": [
  {
   "cell_type": "code",
   "execution_count": 6,
   "id": "ea871980-3ec3-44e0-9e5c-8663644762be",
   "metadata": {},
   "outputs": [
    {
     "name": "stdout",
     "output_type": "stream",
     "text": [
      "The derivative is approximately -1.767242568614427\n"
     ]
    }
   ],
   "source": [
    "import numpy as np\n",
    "\n",
    "# Define the function\n",
    "def f(x):\n",
    "    return np.sin(x)**2 * np.cos(3*x)\n",
    "\n",
    "# Define the central difference method\n",
    "def central_difference(f, x, h):\n",
    "    return (f(x + h) - f(x - h)) / (2 * h)  # Corrected denominator\n",
    "\n",
    "# Parameters\n",
    "x = np.pi / 4  # Point where derivative is calculated\n",
    "h = 0.01       # Step size\n",
    "\n",
    "# Compute the derivative\n",
    "derivative = central_difference(f, x, h)\n",
    "print(f\"The derivative is approximately {derivative}\")"
   ]
  },
  {
   "cell_type": "code",
   "execution_count": 12,
   "id": "0b9613eb-ea08-488c-9499-eec13008f936",
   "metadata": {},
   "outputs": [
    {
     "name": "stdout",
     "output_type": "stream",
     "text": [
      "Scipy result:         -1.767242568614427\n",
      "Central diff result:  -1.76724\n"
     ]
    },
    {
     "name": "stderr",
     "output_type": "stream",
     "text": [
      "C:\\Users\\thuym\\AppData\\Local\\Temp\\ipykernel_29268\\3523750312.py:10: DeprecationWarning: scipy.misc.derivative is deprecated in SciPy v1.10.0; and will be completely removed in SciPy v1.12.0. You may consider using findiff: https://github.com/maroba/findiff or numdifftools: https://github.com/pbrod/numdifftools\n",
      "  scipy_result = derivative(f, x, dx=dx, n=1)\n"
     ]
    }
   ],
   "source": [
    "import numpy as np\n",
    "from scipy.misc import derivative\n",
    "\n",
    "def f(x):\n",
    "    return np.sin(x)**2 * np.cos(3*x)\n",
    "\n",
    "# Scipy's implementation (Richardson-like method)\n",
    "dx = 0.01\n",
    "x = np.pi/4\n",
    "scipy_result = derivative(f, x, dx=dx, n=1)\n",
    "\n",
    "print(f\"Scipy result:         {scipy_result}\")\n",
    "print(f\"Central diff result:  -1.76724\")"
   ]
  },
  {
   "cell_type": "code",
   "execution_count": 10,
   "id": "a9d194eb-fa21-4213-88a5-adb85c0a777a",
   "metadata": {},
   "outputs": [
    {
     "name": "stdout",
     "output_type": "stream",
     "text": [
      "The derivative using scipy.misc.derivative is approximately -1.767242568614427\n"
     ]
    },
    {
     "name": "stderr",
     "output_type": "stream",
     "text": [
      "C:\\Users\\thuym\\AppData\\Local\\Temp\\ipykernel_29268\\4257635151.py:13: DeprecationWarning: scipy.misc.derivative is deprecated in SciPy v1.10.0; and will be completely removed in SciPy v1.12.0. You may consider using findiff: https://github.com/maroba/findiff or numdifftools: https://github.com/pbrod/numdifftools\n",
      "  scipy_derivative = derivative(f, x, dx=dx, n=1, order=3)\n"
     ]
    }
   ],
   "source": [
    "import numpy as np\n",
    "from scipy.misc import derivative\n",
    "\n",
    "# Define the function\n",
    "def f(x):\n",
    "    return np.sin(x)**2 * np.cos(3*x)\n",
    "\n",
    "# Parameters\n",
    "x = np.pi / 4  # Point where derivative is calculated\n",
    "dx = 0.01      # Step size\n",
    "\n",
    "# Compute the derivative using scipy.misc.derivative\n",
    "scipy_derivative = derivative(f, x, dx=dx, n=1, order=3)\n",
    "\n",
    "print(f\"The derivative using scipy.misc.derivative is approximately {scipy_derivative}\")"
   ]
  },
  {
   "cell_type": "code",
   "execution_count": 14,
   "id": "4c33ad3a-64c2-4b8f-ac61-3b99cf0315f8",
   "metadata": {},
   "outputs": [
    {
     "name": "stdout",
     "output_type": "stream",
     "text": [
      "Richardson result: -1.7677669396721913\n"
     ]
    }
   ],
   "source": [
    "import numpy as np\n",
    "\n",
    "def richardson_derivative(f, x, dx, n_terms=2):\n",
    "    D = np.zeros((n_terms, n_terms))\n",
    "    \n",
    "    # First column: central differences with different step sizes\n",
    "    for i in range(n_terms):\n",
    "        h = dx / (2**i)\n",
    "        D[i,0] = (f(x + h) - f(x - h)) / (2*h)\n",
    "    \n",
    "    # Richardson extrapolation\n",
    "    for j in range(1, n_terms):\n",
    "        for i in range(n_terms - j):\n",
    "            D[i,j] = (4**j * D[i+1,j-1] - D[i,j-1]) / (4**j - 1)\n",
    "    \n",
    "    return D[0,n_terms-1]\n",
    "\n",
    "def f(x):\n",
    "    return np.sin(x)**2 * np.cos(3*x)\n",
    "\n",
    "x = np.pi/4\n",
    "dx = 0.01\n",
    "result = richardson_derivative(f, x, dx)\n",
    "print(f\"Richardson result: {result}\")"
   ]
  },
  {
   "cell_type": "code",
   "execution_count": null,
   "id": "63ee4b72-87c7-4924-b842-c0dc1d36e125",
   "metadata": {},
   "outputs": [],
   "source": []
  }
 ],
 "metadata": {
  "kernelspec": {
   "display_name": "Python 3 (ipykernel)",
   "language": "python",
   "name": "python3"
  },
  "language_info": {
   "codemirror_mode": {
    "name": "ipython",
    "version": 3
   },
   "file_extension": ".py",
   "mimetype": "text/x-python",
   "name": "python",
   "nbconvert_exporter": "python",
   "pygments_lexer": "ipython3",
   "version": "3.12.3"
  }
 },
 "nbformat": 4,
 "nbformat_minor": 5
}
